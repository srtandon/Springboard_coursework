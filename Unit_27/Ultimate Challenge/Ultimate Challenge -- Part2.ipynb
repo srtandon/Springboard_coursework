{
 "cells": [
  {
   "cell_type": "markdown",
   "metadata": {},
   "source": [
    "# Context\n",
    "\n",
    "**The neighboring cities of Gotham and Metropolis have complementary circadian rhythms: on\n",
    "weekdays, Ultimate Gotham is most active at night, and Ultimate Metropolis is most active\n",
    "during the day. On weekends, there is reasonable activity in both cities.\n",
    "However, a toll bridge, with a two-way toll, between the two cities causes driver partners to tend\n",
    "to be exclusive to each city. The Ultimate managers of city operations for the two cities have\n",
    "proposed an experiment to encourage driver partners to be available in both cities, by\n",
    "reimbursing all toll costs.**"
   ]
  },
  {
   "cell_type": "markdown",
   "metadata": {},
   "source": [
    "## Question 1\n",
    "\n",
    "What would you choose as the key measure of success of this experiment in encouraging driver partners to serve both cities, and why would you choose this metric?"
   ]
  },
  {
   "cell_type": "markdown",
   "metadata": {},
   "source": [
    "**A:** Based on the framework of the question the level of activity of each city is data that is tracked. One way to measure success of the experiment is to track the reimbursement costs and total tolls collected, a rise in reimbursment levels indicates a rise in cross city traffic by driving partners."
   ]
  },
  {
   "cell_type": "markdown",
   "metadata": {},
   "source": [
    "## Question 2\n",
    "\n",
    "Describe a practical experiment you would design to compare the effectiveness of the\n",
    "proposed change in relation to the key measure of success. Please provide details on:\n",
    "\n",
    "    a. how you will implement the experiment\n",
    "    b. what statistical test(s) you will conduct to verify the significance of the observation\n",
    "    c. how you would interpret the results and provide recommendations to the city operations team along with any caveats.\n"
   ]
  },
  {
   "cell_type": "markdown",
   "metadata": {},
   "source": [
    "If we assume that reimbursements costs were zero before the experiment is implemented than a simple rise in reimbursement costs would indicate success. However the problem is that a rise in reimbursement may be attributed the the drivers that already crossed the toll bridge before the experiment so this is not a good measure. \n",
    "If we look at the rise of tolls collected following the experiment and the ratio of reimbursements to rise in tolls then we get a better understanding of the effect of the experiment. We could also compare the number of tolls to the nightitme and daytime activity of each city. A paired t-test would be run to look at the total tolls collected before and after the experiment of was implemented. The would tell us if there was a significant increase in cross-city traffic. The significance level would depend on the total number of drivers of each city. A pearson correlation to look at level of activity compared to tolls collected before and after the experiment was implemented. This correclation testing would give us insight on whether tolls collected in either city during the other city's peak activity can be used as an indication of the experiement's success"
   ]
  }
 ],
 "metadata": {
  "kernelspec": {
   "display_name": "Python 3",
   "language": "python",
   "name": "python3"
  },
  "language_info": {
   "codemirror_mode": {
    "name": "ipython",
    "version": 3
   },
   "file_extension": ".py",
   "mimetype": "text/x-python",
   "name": "python",
   "nbconvert_exporter": "python",
   "pygments_lexer": "ipython3",
   "version": "3.7.6"
  }
 },
 "nbformat": 4,
 "nbformat_minor": 4
}
